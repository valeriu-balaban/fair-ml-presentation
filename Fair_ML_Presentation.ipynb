{
  "nbformat": 4,
  "nbformat_minor": 0,
  "metadata": {
    "colab": {
      "name": "Fair-ML-Presentation.ipynb",
      "provenance": [],
      "collapsed_sections": [],
      "toc_visible": true,
      "authorship_tag": "ABX9TyPvtcp0ZTraZJZTSqVMxFNv",
      "include_colab_link": true
    },
    "kernelspec": {
      "name": "python3",
      "display_name": "Python 3"
    },
    "language_info": {
      "name": "python"
    }
  },
  "cells": [
    {
      "cell_type": "markdown",
      "metadata": {
        "id": "view-in-github",
        "colab_type": "text"
      },
      "source": [
        "<a href=\"https://colab.research.google.com/github/valeriu-balaban/fair-ml-presentation/blob/main/Fair_ML_Presentation.ipynb\" target=\"_parent\"><img src=\"https://colab.research.google.com/assets/colab-badge.svg\" alt=\"Open In Colab\"/></a>"
      ]
    },
    {
      "cell_type": "markdown",
      "metadata": {
        "id": "NIUKw_LT2Mjg"
      },
      "source": [
        "# Learning Fair ML Models\n",
        "\n",
        " - Fairness will play a major role in automated systems such as ML\n",
        " - For now we do not always have many answers, just a lot of questions\n",
        " - Let's make it interactive. Think and answer questions \n",
        " - There is no right of wrong answer\n",
        " - Presented methods can be easily integrated in any project\n",
        " - Code is in vanila Pytorch and can be ported to Keras, Tensorflow, JAX, etc.\n",
        "\n",
        "**Outline:**\n",
        "1. When things go wrong, examples\n",
        "1. Datasets description\n",
        "1. Subgroup, individual fairness\n",
        "1. Definition and fairness metrics\n",
        "1. Conditional Value at Risk method\n",
        "1. Wasserstein distance (maybe)\n",
        "1. Variance penalization and reference group"
      ]
    },
    {
      "cell_type": "markdown",
      "metadata": {
        "id": "8Qecy1h8JqIb"
      },
      "source": [
        "## 1. Problem with $``the\\ algorithm\"$ "
      ]
    },
    {
      "cell_type": "markdown",
      "metadata": {
        "id": "hquMcFeXF0yT"
      },
      "source": [
        "\n",
        "  - Tiktok's algorithm prioritizes white people:\n",
        "    ![tiktok](https://raw.githubusercontent.com/valeriu-balaban/fair-ml-presentation/main/Screenshot%202021-07-19%20at%2011-31-32%20tiktok%20race%20problem%20at%20DuckDuckGo.png)\n",
        "\n",
        "  - Youtube's algorithm has other issues ([source](https://www.wsj.com/articles/youtubes-search-algorithm-directs-viewers-to-false-and-sexualized-videos-study-finds-11625644803)):\n",
        "  ![youtube](https://raw.githubusercontent.com/valeriu-balaban/fair-ml-presentation/main/Screenshot%202021-07-19%20at%2011-30-24%20YouTube%E2%80%99s%20Search%20Algorithm%20Directs%20Viewers%20to%20False%20and%20Sexualized%20Videos%2C%20Study%20Finds.png)\n",
        "\n",
        "  - Facebook's algorithm has ome other problems ([source](https://www.technologyreview.com/2019/04/05/1175/facebook-algorithm-discriminates-ai-bias/)):\n",
        "  ![facebook](https://raw.githubusercontent.com/valeriu-balaban/fair-ml-presentation/main/Screenshot%202021-07-19%20at%2011-35-14%20Facebook%E2%80%99s%20ad-serving%20algorithm%20discriminates%20by%20gender%20and%20race.png)\n",
        "\n",
        "  - And the same problem can be posed for self-driving cars ([source](https://www.technologyreview.com/2018/10/24/139313/a-global-ethics-study-aims-to-help-ai-solve-the-self-driving-trolley-problem/))\n",
        "  ![self-driving-cars](https://raw.githubusercontent.com/valeriu-balaban/fair-ml-presentation/main/Screenshot%202021-07-19%20at%2012-01-08%20Should%20a%20self-driving%20car%20kill%20the%20baby%20or%20the%20grandma%20Depends%20on%20where%20you%E2%80%99re%20from%20.png)\n",
        "\n",
        "  - Evaluating the danger of an offender during (pre)trial ([source](https://www.propublica.org/article/how-we-analyzed-the-compas-recidivism-algorithm))\n",
        "    ![propublica](https://static.propublica.org/projects/algorithmic-bias/assets/img/generated/methodology-risk-of-recidivism-scores-by-race-900*363-482d1c.png)\n",
        "\n"
      ]
    },
    {
      "cell_type": "markdown",
      "metadata": {
        "id": "s8nMdiUKb9Hb"
      },
      "source": [
        "None of these companies designed the ML algorithm to be biased. Yet it ended up biased on multiple occasions. \n",
        "\n",
        "**Why?**"
      ]
    },
    {
      "cell_type": "markdown",
      "metadata": {
        "id": "R0EEk_70cMTq"
      },
      "source": [
        "### Answer"
      ]
    },
    {
      "cell_type": "markdown",
      "metadata": {
        "id": "1n2aj4fFcO-E"
      },
      "source": [
        "*Learning from data without suppervision can (usually does) lead to issues because humans that generate the data discriminate by race, skin color, gender, age, etc.*\n",
        "\n",
        "https://www.youtube.com/embed/NaWJhlDb6sE\n",
        "\n"
      ]
    },
    {
      "cell_type": "markdown",
      "metadata": {
        "id": "ms5nTNaFHxYG"
      },
      "source": [
        "## 2. Toy dataset "
      ]
    },
    {
      "cell_type": "code",
      "metadata": {
        "id": "Degpfl9Td9et"
      },
      "source": [
        "import torch\n",
        "\n",
        "import numpy as np\n",
        "import pandas as pd\n",
        "import seaborn as sns\n",
        "\n",
        "import matplotlib.pyplot as plt"
      ],
      "execution_count": 2,
      "outputs": []
    },
    {
      "cell_type": "code",
      "metadata": {
        "id": "Hek2c1_Md9LI"
      },
      "source": [
        "def generate_toy_data(n_samples, n_samples_low, n_dimensions, seed=0):\n",
        "  \"\"\"\n",
        "  Dataset generation code from Michele Donini, et al. \"Empirical Risk\n",
        "  Minimization under Fairness Constraints. https://github.com/jmikko/fair_ERM\n",
        "  \"\"\"\n",
        "  np.random.seed(seed)\n",
        "  varA = 0.8\n",
        "  aveApos = [-1.0] * n_dimensions\n",
        "  aveAneg = [1.0] * n_dimensions\n",
        "  varB = 0.5\n",
        "  aveBpos = [0.5] * int(n_dimensions / 2) + [-0.5] * int(n_dimensions / 2 + n_dimensions % 2)\n",
        "  aveBneg = [0.5] * n_dimensions\n",
        "  X = np.random.multivariate_normal(aveApos, np.diag([varA] * n_dimensions), n_samples)\n",
        "  X = np.vstack([X, np.random.multivariate_normal(aveAneg, np.diag([varA] * n_dimensions), n_samples)])\n",
        "  X = np.vstack([X, np.random.multivariate_normal(aveBpos, np.diag([varB] * n_dimensions), n_samples_low)])\n",
        "  X = np.vstack([X, np.random.multivariate_normal(aveBneg, np.diag([varB] * n_dimensions), n_samples)])\n",
        "  sensible_feature = [1] * (n_samples * 2) + [-1] * (n_samples + n_samples_low)\n",
        "  sensible_feature = np.array(sensible_feature)\n",
        "  sensible_feature.shape = (len(sensible_feature), 1)\n",
        "  X = np.hstack([X, sensible_feature])\n",
        "  y = [1] * n_samples + [-1] * n_samples + [1] * n_samples_low + [-1] * n_samples\n",
        "  y = np.array(y)\n",
        "  sensible_feature_id = len(X[1, :]) - 1\n",
        "  idx_A = list(range(0, n_samples * 2))\n",
        "  idx_B = list(range(n_samples * 2, n_samples * 3 + n_samples_low))\n",
        "\n",
        "  return X, y, sensible_feature_id, idx_A, idx_B"
      ],
      "execution_count": 50,
      "outputs": []
    },
    {
      "cell_type": "code",
      "metadata": {
        "id": "UsbFm12YI3kc"
      },
      "source": [
        "# Parameters\n",
        "n_samples = 100\n",
        "n_samples_low = 20\n",
        "\n",
        "# Prepare the dataset\n",
        "X, y, _,_,_ = generate_toy_data(n_samples, n_samples_low, n_dimensions=2, seed=3)"
      ],
      "execution_count": 51,
      "outputs": []
    },
    {
      "cell_type": "code",
      "metadata": {
        "colab": {
          "base_uri": "https://localhost:8080/"
        },
        "id": "mA3ahx0aJEGk",
        "outputId": "76836ea0-dbce-4649-95d3-0e828e30ac28"
      },
      "source": [
        "X[0, :], y"
      ],
      "execution_count": 52,
      "outputs": [
        {
          "output_type": "execute_result",
          "data": {
            "text/plain": [
              "(array([ 0.59979794, -0.60957372,  1.        ]),\n",
              " array([ 1,  1,  1,  1,  1,  1,  1,  1,  1,  1,  1,  1,  1,  1,  1,  1,  1,\n",
              "         1,  1,  1,  1,  1,  1,  1,  1,  1,  1,  1,  1,  1,  1,  1,  1,  1,\n",
              "         1,  1,  1,  1,  1,  1,  1,  1,  1,  1,  1,  1,  1,  1,  1,  1,  1,\n",
              "         1,  1,  1,  1,  1,  1,  1,  1,  1,  1,  1,  1,  1,  1,  1,  1,  1,\n",
              "         1,  1,  1,  1,  1,  1,  1,  1,  1,  1,  1,  1,  1,  1,  1,  1,  1,\n",
              "         1,  1,  1,  1,  1,  1,  1,  1,  1,  1,  1,  1,  1,  1,  1, -1, -1,\n",
              "        -1, -1, -1, -1, -1, -1, -1, -1, -1, -1, -1, -1, -1, -1, -1, -1, -1,\n",
              "        -1, -1, -1, -1, -1, -1, -1, -1, -1, -1, -1, -1, -1, -1, -1, -1, -1,\n",
              "        -1, -1, -1, -1, -1, -1, -1, -1, -1, -1, -1, -1, -1, -1, -1, -1, -1,\n",
              "        -1, -1, -1, -1, -1, -1, -1, -1, -1, -1, -1, -1, -1, -1, -1, -1, -1,\n",
              "        -1, -1, -1, -1, -1, -1, -1, -1, -1, -1, -1, -1, -1, -1, -1, -1, -1,\n",
              "        -1, -1, -1, -1, -1, -1, -1, -1, -1, -1, -1, -1, -1,  1,  1,  1,  1,\n",
              "         1,  1,  1,  1,  1,  1,  1,  1,  1,  1,  1,  1,  1,  1,  1,  1, -1,\n",
              "        -1, -1, -1, -1, -1, -1, -1, -1, -1, -1, -1, -1, -1, -1, -1, -1, -1,\n",
              "        -1, -1, -1, -1, -1, -1, -1, -1, -1, -1, -1, -1, -1, -1, -1, -1, -1,\n",
              "        -1, -1, -1, -1, -1, -1, -1, -1, -1, -1, -1, -1, -1, -1, -1, -1, -1,\n",
              "        -1, -1, -1, -1, -1, -1, -1, -1, -1, -1, -1, -1, -1, -1, -1, -1, -1,\n",
              "        -1, -1, -1, -1, -1, -1, -1, -1, -1, -1, -1, -1, -1, -1, -1, -1, -1,\n",
              "        -1, -1, -1, -1, -1, -1, -1, -1, -1, -1, -1, -1, -1, -1]))"
            ]
          },
          "metadata": {
            "tags": []
          },
          "execution_count": 52
        }
      ]
    },
    {
      "cell_type": "code",
      "metadata": {
        "id": "YeLFbSpafBZb",
        "colab": {
          "base_uri": "https://localhost:8080/",
          "height": 483
        },
        "outputId": "baad547b-724f-48b0-e889-7d5ecc0e9424"
      },
      "source": [
        "# Plot data\n",
        "s1 = (X[:, 2] < 0)\n",
        "s2 = (X[:, 2] > 0)\n",
        "\n",
        "c1s1 = (y[s1] == -1)\n",
        "c1s2 = (y[s2] == -1)\n",
        "c2s1 = (y[s1] ==  1)\n",
        "c2s2 = (y[s2] ==  1)\n",
        "\n",
        "\n",
        "plt.figure(figsize=(8, 8))\n",
        "\n",
        "plt.scatter(X[s1, 0][c1s1], X[s1, 1][c1s1], marker='x', color='b', label=\"class 1, subgroup a\")\n",
        "plt.scatter(X[s2, 0][c1s2], X[s2, 1][c1s2], marker='o', color='b', label=\"class 1, subgroup b\")\n",
        "\n",
        "plt.scatter(X[s1, 0][c2s1], X[s1, 1][c2s1], marker='x', color='r', label=\"class 2, subgroup a\")\n",
        "plt.scatter(X[s2, 0][c2s2], X[s2, 1][c2s2], marker='o', color='r', label=\"class 2, subgroup b\")\n",
        "\n",
        "plt.legend()\n",
        "sns.despine()"
      ],
      "execution_count": 54,
      "outputs": [
        {
          "output_type": "display_data",
          "data": {
            "image/png": "[encoded data removed]",
            "text/plain": [
              "<Figure size 576x576 with 1 Axes>"
            ]
          },
          "metadata": {
            "tags": [],
            "needs_background": "light"
          }
        }
      ]
    },
    {
      "cell_type": "markdown",
      "metadata": {
        "id": "UYYUmfoNIFzT"
      },
      "source": [
        "**Questions:**\n",
        "1. What differentiates subgroup a from subgroup b?\n",
        "1. How a fair classification boundary should look?"
      ]
    },
    {
      "cell_type": "markdown",
      "metadata": {
        "id": "P82_grNMJ6Rm"
      },
      "source": [
        "### Train a vanila pytorch model"
      ]
    },
    {
      "cell_type": "code",
      "metadata": {
        "id": "sj5WRgqUJQTh"
      },
      "source": [
        "# data parameters\n",
        "n_samples = 1000\n",
        "n_samples_low = 200\n",
        "\n",
        "# Prepare the dataset\n",
        "X, y, _,_,_ = generate_toy_data(n_samples, n_samples_low, n_dimensions=2, seed=0)\n",
        "X_test, y_test, _,_,_ = generate_toy_data(n_samples, n_samples_low, n_dimensions=2, seed=1)\n",
        "\n",
        "X = torch.tensor(X).float()\n",
        "X_test = torch.tensor(X_test).float()\n",
        "\n",
        "# Change labels from -1, 1 to 0, 1\n",
        "y = torch.tensor(y)\n",
        "y[y == -1] = 0\n",
        "\n",
        "y_test = torch.tensor(y_test)\n",
        "y_test[y_test == -1] = 0\n",
        "\n",
        "\n",
        "data_train = torch.utils.data.TensorDataset(X, y)\n",
        "loss       = torch.nn.CrossEntropyLoss(reduction='none')"
      ],
      "execution_count": 82,
      "outputs": []
    },
    {
      "cell_type": "code",
      "metadata": {
        "colab": {
          "base_uri": "https://localhost:8080/"
        },
        "id": "yZMFj5c0KJ1Y",
        "outputId": "97533a68-d200-432e-dd4b-bde40978c07a"
      },
      "source": [
        "# Params\n",
        "num_epochs = 10\n",
        "lr = 0.02\n",
        "batch_size = 256\n",
        "\n",
        "model = torch.nn.Sequential(\n",
        "  torch.nn.Linear(3, 8),\n",
        "  torch.nn.Sigmoid(),\n",
        "  torch.nn.Linear(8, 2),\n",
        ")\n",
        "\n",
        "opt  = torch.optim.Adam(model.parameters(), lr=lr)\n",
        "dl   = torch.utils.data.DataLoader(data_train, batch_size=batch_size, shuffle=True, drop_last=True)\n",
        "\n",
        "\n",
        "for i in range(num_epochs):\n",
        "  print(\"Training epoch\", i)\n",
        "\n",
        "  for x, y_t in dl:\n",
        "    opt.zero_grad()\n",
        "\n",
        "    y_hat  = model(x)\n",
        "    losses = loss(y_hat, y_t)\n",
        "\n",
        "\n",
        "    # Backpropagate and optimize    \n",
        "    losses.mean().backward()\n",
        "    opt.step()"
      ],
      "execution_count": 83,
      "outputs": [
        {
          "output_type": "stream",
          "text": [
            "Training epoch 0\n",
            "Training epoch 1\n",
            "Training epoch 2\n",
            "Training epoch 3\n",
            "Training epoch 4\n",
            "Training epoch 5\n",
            "Training epoch 6\n",
            "Training epoch 7\n",
            "Training epoch 8\n",
            "Training epoch 9\n"
          ],
          "name": "stdout"
        }
      ]
    },
    {
      "cell_type": "code",
      "metadata": {
        "colab": {
          "base_uri": "https://localhost:8080/"
        },
        "id": "T9VItZiqLNj2",
        "outputId": "511a7a04-2d84-40ce-9965-9d8cfb328cc6"
      },
      "source": [
        "# Evaluate model\n",
        "\n",
        "with torch.no_grad():\n",
        "  y_hat = model(X_test)\n",
        "\n",
        "y_class = y_hat.argmax(dim=1)\n",
        "\n",
        "\n",
        "print(\"Number of missclassifications\", (y_class != y_test).sum().item(), \"out of\", y_test.shape[0], \"or\", (y_class != y_test).sum().item() /  y_test.shape[0])"
      ],
      "execution_count": 84,
      "outputs": [
        {
          "output_type": "stream",
          "text": [
            "Number of missclassifications 303 out of 3200 or 0.0946875\n"
          ],
          "name": "stdout"
        }
      ]
    },
    {
      "cell_type": "code",
      "metadata": {
        "colab": {
          "base_uri": "https://localhost:8080/"
        },
        "id": "8b0A682FLg-j",
        "outputId": "d707392f-bb38-4abd-91c6-1a9541fdb553"
      },
      "source": [
        "y_mask  = (y_class != y_test)\n",
        "x_group = X_test[:, 2][y_mask]\n",
        "\n",
        "print(\"Number of missclassifications for subgroup a\", (x_group < 0).sum().item(), \"out of\", y_test.shape[0], \"or\", (x_group < 0).sum().item() /  y_test.shape[0])\n",
        "print(\"Number of missclassifications for subgroup b\", (x_group > 0).sum().item(), \"out of\", y_test.shape[0], \"or\", (x_group > 0).sum().item() /  y_test.shape[0])"
      ],
      "execution_count": 85,
      "outputs": [
        {
          "output_type": "stream",
          "text": [
            "Number of missclassifications for subgroup a 181 out of 3200 or 0.0565625\n",
            "Number of missclassifications for subgroup b 122 out of 3200 or 0.038125\n"
          ],
          "name": "stdout"
        }
      ]
    },
    {
      "cell_type": "markdown",
      "metadata": {
        "id": "Pcw59o8SR6wl"
      },
      "source": [
        "**Questions:**\n",
        "1. The subgroup attribute is part of the training data. Would the results change if we remove it?\n",
        "1. How can we fix this and make the model more fair? "
      ]
    },
    {
      "cell_type": "markdown",
      "metadata": {
        "id": "Y9K7SNumLJj3"
      },
      "source": [
        "## Definition and fainess metrics\n"
      ]
    },
    {
      "cell_type": "markdown",
      "metadata": {
        "id": "yAWOUZCkLPlY"
      },
      "source": [
        "### Notation:\n",
        "\n",
        "To simplify things we will focus only on classification. Although, the methods work for both, regression and classification.\n",
        "\n",
        "\n",
        "- $X$ - input ($x$ one input sample)\n",
        "- $Y$ - labels ($y$ one label sample)\n",
        "- $S$ - sensitive attributes which are part of X (e.g., gender, age, race)\n",
        "- $f$ - model we train, i.e., $f(x; \\theta)$ returns the probability of each labels\n",
        "- $\\theta$ - model parameters, e.g., the weights and the biases for NN\n",
        "- $\\ell$ - loss function, here we will always use cross-entropy ($-log f(x; \\theta) [y]$)\n",
        "- $\\mathbb{E}[\\ell(f, X, Y)]$ - loss value, i.e., average loss\n",
        "- $\\min\\mathbb{E}[\\ell(f, X, Y)]$ - optimization objective"
      ]
    },
    {
      "cell_type": "markdown",
      "metadata": {
        "id": "OYegnLkBP7hY"
      },
      "source": [
        "### Definitions of perfect fairness\n"
      ]
    },
    {
      "cell_type": "markdown",
      "metadata": {
        "id": "Q2VCxV6DVkma"
      },
      "source": [
        "\n",
        "- *Demografic parity:* $S \\perp f(X; \\theta)$\n",
        "- *Equaized odds:* $S \\perp f(X; \\theta) \\mid Y$\n",
        "- *Lack of disparate mistreatment:* $\\mathbb{P}(f(X; \\theta) \\neq Y \\mid S = s_a) = \\mathbb{P}(f(X; \\theta) \\neq Y \\mid S = s_b) , \\forall s_a, s_b \\in S$\n",
        "\n",
        "**Questions:**\n",
        "1. What is the difference between the first two from the perspective of application?\n",
        "1. What is the problem with these definitions?"
      ]
    },
    {
      "cell_type": "markdown",
      "metadata": {
        "id": "qP5413u4VoIY"
      },
      "source": [
        "### Approximate fairness"
      ]
    },
    {
      "cell_type": "markdown",
      "metadata": {
        "id": "U1ujakf4hVsp"
      },
      "source": [
        "- *Mean difference score:* $\\max \\mid \\mathbb{P}(f(X; \\theta) = y \\mid S = s_a) - \\mathbb{P}(f(X; \\theta) = y \\mid S = s_b) \\mid, \\forall s_a, s_b \\in S, \\forall y \\in Y$\n",
        "\n",
        "- *Covariance:* $\\mathbb{E}[f(X; \\theta) \\cdot S] - \\mathbb{E}[f(X; \\theta)] \\cdot \\mathbb{E}[S]$\n",
        "\n",
        "**Questions:**\n",
        "1. Why these two metrics are approximate\n",
        "1. Why we use the approximate metrics instead of perfect metrics of fairness?\n",
        "\n",
        "[Correlation Wikipedia](https://en.wikipedia.org/wiki/Correlation)"
      ]
    },
    {
      "cell_type": "code",
      "metadata": {
        "id": "aBI5OiXWLOx-",
        "colab": {
          "base_uri": "https://localhost:8080/"
        },
        "outputId": "dab12edf-7b11-456a-c2b3-3b8d85c94bb2"
      },
      "source": [
        "# Params\n",
        "num_epochs = 10\n",
        "lr = 0.02\n",
        "batch_size = 256\n",
        "\n",
        "rho=1.0\n",
        "alpha=0.5\n",
        "sensitive_idx=2\n",
        "\n",
        "model = torch.nn.Sequential(\n",
        "  torch.nn.Linear(3, 8),\n",
        "  torch.nn.Sigmoid(),\n",
        "  torch.nn.Linear(8, 2),\n",
        ")\n",
        "\n",
        "rho  = torch.tensor(rho, requires_grad=True)\n",
        "\n",
        "opt  = torch.optim.Adam([rho] + list(model.parameters()), lr=lr)\n",
        "dl   = torch.utils.data.DataLoader(data_train, batch_size=batch_size, shuffle=True, drop_last=True)\n",
        "\n",
        "\n",
        "for i in range(num_epochs):\n",
        "  print(\"Training epoch\", i)\n",
        "\n",
        "  for x, y_t in dl:\n",
        "    opt.zero_grad()\n",
        "\n",
        "    y_hat  = model(x)\n",
        "    losses = loss(y_hat, y_t)\n",
        "    l_mean = losses.mean().detach()\n",
        "\n",
        "    groups = x[:,sensitive_idx].unique()\n",
        "    sum    = 0\n",
        "    for c in groups:\n",
        "      mask = (x[:,sensitive_idx] == c)\n",
        "      sum += (losses[mask].mean() - rho).clip(0.0)\n",
        "\n",
        "    (rho + 1/(1-alpha)* sum / groups.shape[0]).backward()\n",
        "\n",
        "    opt.step()"
      ],
      "execution_count": 193,
      "outputs": [
        {
          "output_type": "stream",
          "text": [
            "Training epoch 0\n",
            "Training epoch 1\n",
            "Training epoch 2\n",
            "Training epoch 3\n",
            "Training epoch 4\n",
            "Training epoch 5\n",
            "Training epoch 6\n",
            "Training epoch 7\n",
            "Training epoch 8\n",
            "Training epoch 9\n"
          ],
          "name": "stdout"
        }
      ]
    },
    {
      "cell_type": "code",
      "metadata": {
        "id": "n8NCqMhOV8__",
        "outputId": "8812a27d-af1f-4fe9-8097-c431f3c7c116",
        "colab": {
          "base_uri": "https://localhost:8080/"
        }
      },
      "source": [
        "# Evaluate model\n",
        "\n",
        "with torch.no_grad():\n",
        "  y_hat = model(X_test)\n",
        "\n",
        "y_class = y_hat.argmax(dim=1)\n",
        "\n",
        "\n",
        "print(\"Number of missclassifications\", (y_class != y_test).sum().item(), \"out of\", y_test.shape[0], \"or\", (y_class != y_test).sum().item() /  y_test.shape[0])"
      ],
      "execution_count": 194,
      "outputs": [
        {
          "output_type": "stream",
          "text": [
            "Number of missclassifications 351 out of 3200 or 0.1096875\n"
          ],
          "name": "stdout"
        }
      ]
    },
    {
      "cell_type": "code",
      "metadata": {
        "id": "3u_uovdoWG1m",
        "outputId": "7d10fe5e-7ea0-4bc9-e6e7-c5b8a2361983",
        "colab": {
          "base_uri": "https://localhost:8080/"
        }
      },
      "source": [
        "y_mask  = (y_class != y_test)\n",
        "x_group = X_test[:, 2][y_mask]\n",
        "\n",
        "print(\"Number of missclassifications for subgroup a\", (x_group < 0).sum().item(), \"out of\", y_test.shape[0], \"or\", (x_group < 0).sum().item() /  y_test.shape[0])\n",
        "print(\"Number of missclassifications for subgroup b\", (x_group > 0).sum().item(), \"out of\", y_test.shape[0], \"or\", (x_group > 0).sum().item() /  y_test.shape[0])"
      ],
      "execution_count": 195,
      "outputs": [
        {
          "output_type": "stream",
          "text": [
            "Number of missclassifications for subgroup a 171 out of 3200 or 0.0534375\n",
            "Number of missclassifications for subgroup b 180 out of 3200 or 0.05625\n"
          ],
          "name": "stdout"
        }
      ]
    },
    {
      "cell_type": "code",
      "metadata": {
        "id": "QvF4-_fVWJ5R",
        "outputId": "f9b79fe5-95d9-447a-c9ae-1ec5c4205a88",
        "colab": {
          "base_uri": "https://localhost:8080/",
          "height": 522
        }
      },
      "source": [
        "# Select predicted prob by subgroup\n",
        "pred_prob   = torch.tensor([y[idx].item() for y, idx in zip(y_hat.softmax(dim=1), y_test)])\n",
        "pred_prob_a = pred_prob[y_mask][x_group < 0]\n",
        "pred_prob_b = pred_prob[y_mask][x_group > 0]\n",
        "\n",
        "plt.hist(pred_prob_a.numpy(), alpha=0.5, bins=30, density=True)\n",
        "plt.hist(pred_prob_b.numpy(), alpha=0.5, bins=30, density=True)"
      ],
      "execution_count": 196,
      "outputs": [
        {
          "output_type": "execute_result",
          "data": {
            "text/plain": [
              "(array([0.7089362 , 0.35446806, 1.06340417, 0.35446823, 1.06340417,\n",
              "        0.35446806, 1.06340417, 1.77234029, 1.77234029, 1.77234198,\n",
              "        2.83574446, 1.77234029, 1.77234029, 2.12680835, 1.06340519,\n",
              "        3.54467721, 4.60808914, 0.35446772, 2.48127877, 3.19020949,\n",
              "        1.77234198, 1.41787358, 1.41787088, 3.89915235, 3.19020949,\n",
              "        2.12681037, 2.12680633, 4.96255753, 3.54467721, 5.31702593]),\n",
              " array([0.02916896, 0.04484189, 0.06051483, 0.07618777, 0.0918607 ,\n",
              "        0.10753363, 0.12320657, 0.13887951, 0.15455244, 0.17022538,\n",
              "        0.1858983 , 0.20157124, 0.21724418, 0.23291712, 0.24859005,\n",
              "        0.26426297, 0.27993593, 0.29560885, 0.3112818 , 0.32695472,\n",
              "        0.34262767, 0.3583006 , 0.37397352, 0.38964647, 0.4053194 ,\n",
              "        0.42099234, 0.43666527, 0.45233822, 0.46801114, 0.4836841 ,\n",
              "        0.499357  ], dtype=float32),\n",
              " <a list of 30 Patch objects>)"
            ]
          },
          "metadata": {
            "tags": []
          },
          "execution_count": 196
        },
        {
          "output_type": "display_data",
          "data": {
            "image/png": "[encoded data removed]",
            "text/plain": [
              "<Figure size 432x288 with 1 Axes>"
            ]
          },
          "metadata": {
            "tags": [],
            "needs_background": "light"
          }
        }
      ]
    },
    {
      "cell_type": "code",
      "metadata": {
        "id": "yWmITtU0X3to",
        "outputId": "b59c15d8-5e9a-4752-e2b5-a8493655a0c7",
        "colab": {
          "base_uri": "https://localhost:8080/",
          "height": 522
        }
      },
      "source": [
        "# Select predicted prob by subgroup\n",
        "y_mask  = (y_class == y_test)\n",
        "x_group = X_test[:, 2][y_mask]\n",
        "\n",
        "\n",
        "pred_prob   = torch.tensor([y[idx].item() for y, idx in zip(y_hat.softmax(dim=1), y_test)])\n",
        "pred_prob_a = pred_prob[y_mask][x_group < 0]\n",
        "pred_prob_b = pred_prob[y_mask][x_group > 0]\n",
        "\n",
        "plt.hist(pred_prob_a.numpy(), alpha=0.5, bins=30, density=True)\n",
        "plt.hist(pred_prob_b.numpy(), alpha=0.5, bins=30, density=True)"
      ],
      "execution_count": 197,
      "outputs": [
        {
          "output_type": "execute_result",
          "data": {
            "text/plain": [
              "(array([0.33919933, 0.20351885, 0.44095913, 0.4409575 , 0.54271893,\n",
              "        0.61055654, 0.50879899, 0.64447872, 0.54271693, 0.61055879,\n",
              "        0.88191501, 0.78015846, 0.74623578, 0.37311926, 0.78015558,\n",
              "        0.91583819, 0.81407839, 0.8479952 , 1.62815678, 2.06910829,\n",
              "        1.28895745, 2.00126867, 2.13695577, 3.29023349, 3.66333927,\n",
              "        5.56286899, 7.15707949, 8.64958288, 6.71612199, 6.54654704]),\n",
              " array([0.5021887 , 0.51838714, 0.53458565, 0.5507841 , 0.5669826 ,\n",
              "        0.5831811 , 0.5993796 , 0.61557806, 0.6317765 , 0.647975  ,\n",
              "        0.6641735 , 0.680372  , 0.69657046, 0.712769  , 0.7289674 ,\n",
              "        0.74516594, 0.7613644 , 0.77756286, 0.7937614 , 0.8099598 ,\n",
              "        0.82615834, 0.8423568 , 0.8585553 , 0.8747538 , 0.8909522 ,\n",
              "        0.90715075, 0.9233492 , 0.9395477 , 0.9557462 , 0.9719447 ,\n",
              "        0.98814315], dtype=float32),\n",
              " <a list of 30 Patch objects>)"
            ]
          },
          "metadata": {
            "tags": []
          },
          "execution_count": 197
        },
        {
          "output_type": "display_data",
          "data": {
            "image/png": "[encoded data removed]",
            "text/plain": [
              "<Figure size 432x288 with 1 Axes>"
            ]
          },
          "metadata": {
            "tags": [],
            "needs_background": "light"
          }
        }
      ]
    },
    {
      "cell_type": "markdown",
      "metadata": {
        "id": "c3DRcxlShHTe"
      },
      "source": [
        "## Moments penalization"
      ]
    },
    {
      "cell_type": "code",
      "metadata": {
        "id": "6sTkxfiqYDCN"
      },
      "source": [
        "# Params\n",
        "num_epochs = 10\n",
        "lr = 0.02\n",
        "batch_size = 256\n",
        "\n",
        "lambda_1 = 1.0\n",
        "lambda_2 = 16.0\n",
        "lambda_3 = 2.0\n",
        "lambda_4 = 0.0\n",
        "sensitive_idx=2\n",
        "\n",
        "model = torch.nn.Sequential(\n",
        "  torch.nn.Linear(3, 8),\n",
        "  torch.nn.Sigmoid(),\n",
        "  torch.nn.Linear(8, 2),\n",
        ")\n",
        "\n",
        "opt  = torch.optim.Adam(model.parameters(), lr=lr)\n",
        "dl   = torch.utils.data.DataLoader(data_train, batch_size=batch_size, shuffle=True, drop_last=True)\n",
        "\n",
        "logs = []\n",
        "\n",
        "for i in range(num_epochs):\n",
        "  for x, y_t in dl:\n",
        "    opt.zero_grad()\n",
        "\n",
        "    y_hat  = model(x)\n",
        "    losses = loss(y_hat, y_t)\n",
        "\n",
        "    z      = losses.detach()\n",
        "    z_mean = z.mean()\n",
        "\n",
        "\n",
        "    # Calculate mean loss for each class\n",
        "    class_mean_loss = torch.zeros_like(z)\n",
        "    lambda_2v       = lambda_2 * torch.ones_like(z)\n",
        "    lambda_3v       = lambda_3 * torch.ones_like(z)\n",
        "    lambda_4v       = lambda_4 * torch.ones_like(z)\n",
        "\n",
        "    for c in x[:,sensitive_idx].unique():\n",
        "      mask = (x[:,sensitive_idx] == c)\n",
        "      class_mean_loss[mask] = z[mask].mean()\n",
        "\n",
        "    # Calculate weights\n",
        "    w = lambda_1 + lambda_2v * (class_mean_loss/z_mean - z_mean/z_mean) + \\\n",
        "        lambda_3v * (z - class_mean_loss - z.var()/z_mean) + \\\n",
        "        lambda_4v * ((z - class_mean_loss)**2 - (z - z_mean)**3 / z_mean)\n",
        "    w = w.clip(0.0)\n",
        "\n",
        "    # Backpropagate and optimize    \n",
        "    (w * losses).mean().backward()\n",
        "    opt.step()"
      ],
      "execution_count": 203,
      "outputs": []
    },
    {
      "cell_type": "code",
      "metadata": {
        "id": "eAaA4nFChv7I",
        "outputId": "3f67e047-79e4-4ff2-e32e-dc2b012efbd4",
        "colab": {
          "base_uri": "https://localhost:8080/"
        }
      },
      "source": [
        "# Evaluate model\n",
        "\n",
        "with torch.no_grad():\n",
        "  y_hat = model(X_test)\n",
        "\n",
        "y_class = y_hat.argmax(dim=1)\n",
        "\n",
        "\n",
        "print(\"Number of missclassifications\", (y_class != y_test).sum().item(), \"out of\", y_test.shape[0], \"or\", (y_class != y_test).sum().item() /  y_test.shape[0])"
      ],
      "execution_count": 204,
      "outputs": [
        {
          "output_type": "stream",
          "text": [
            "Number of missclassifications 342 out of 3200 or 0.106875\n"
          ],
          "name": "stdout"
        }
      ]
    },
    {
      "cell_type": "code",
      "metadata": {
        "id": "avmM4Ep0h10q",
        "outputId": "57898435-a7d1-46f6-9e04-6c2ddb303225",
        "colab": {
          "base_uri": "https://localhost:8080/"
        }
      },
      "source": [
        "y_mask  = (y_class != y_test)\n",
        "x_group = X_test[:, 2][y_mask]\n",
        "\n",
        "print(\"Number of missclassifications for subgroup a\", (x_group < 0).sum().item(), \"out of\", y_test.shape[0], \"or\", (x_group < 0).sum().item() /  y_test.shape[0])\n",
        "print(\"Number of missclassifications for subgroup b\", (x_group > 0).sum().item(), \"out of\", y_test.shape[0], \"or\", (x_group > 0).sum().item() /  y_test.shape[0])"
      ],
      "execution_count": 205,
      "outputs": [
        {
          "output_type": "stream",
          "text": [
            "Number of missclassifications for subgroup a 172 out of 3200 or 0.05375\n",
            "Number of missclassifications for subgroup b 170 out of 3200 or 0.053125\n"
          ],
          "name": "stdout"
        }
      ]
    },
    {
      "cell_type": "code",
      "metadata": {
        "id": "mWan1eBIh6Ve",
        "outputId": "eb8eb4f3-f143-441d-8877-8206fcfa45c4",
        "colab": {
          "base_uri": "https://localhost:8080/",
          "height": 522
        }
      },
      "source": [
        "# Select predicted prob by subgroup\n",
        "pred_prob   = torch.tensor([y[idx].item() for y, idx in zip(y_hat.softmax(dim=1), y_test)])\n",
        "pred_prob_a = pred_prob[y_mask][x_group < 0]\n",
        "pred_prob_b = pred_prob[y_mask][x_group > 0]\n",
        "\n",
        "plt.hist(pred_prob_a.numpy(), alpha=0.5, bins=30, density=True)\n",
        "plt.hist(pred_prob_b.numpy(), alpha=0.5, bins=30, density=True)"
      ],
      "execution_count": 206,
      "outputs": [
        {
          "output_type": "execute_result",
          "data": {
            "text/plain": [
              "(array([ 0.91290576,  0.        ,  0.        ,  0.45645262,  0.        ,\n",
              "         0.45645314,  0.91290629,  0.91290629,  0.        ,  0.91290629,\n",
              "         0.        ,  0.        ,  1.82581257,  0.91290629,  2.28226572,\n",
              "         2.73871886,  4.10807829,  2.73871886,  1.36935626,  3.65162515,\n",
              "         3.195172  ,  5.02098458,  5.47743772,  3.195172  ,  5.47743772,\n",
              "         2.28226044,  5.47743772,  6.39034401,  4.56453143, 12.32423487]),\n",
              " array([0.11242218, 0.12530927, 0.13819636, 0.15108345, 0.16397056,\n",
              "        0.17685765, 0.18974474, 0.20263183, 0.21551892, 0.22840603,\n",
              "        0.24129312, 0.25418022, 0.2670673 , 0.2799544 , 0.2928415 ,\n",
              "        0.30572858, 0.31861567, 0.33150277, 0.34438986, 0.35727698,\n",
              "        0.37016407, 0.38305116, 0.39593825, 0.40882534, 0.42171243,\n",
              "        0.43459952, 0.44748664, 0.46037373, 0.47326082, 0.4861479 ,\n",
              "        0.499035  ], dtype=float32),\n",
              " <a list of 30 Patch objects>)"
            ]
          },
          "metadata": {
            "tags": []
          },
          "execution_count": 206
        },
        {
          "output_type": "display_data",
          "data": {
            "image/png": "[encoded data removed]",
            "text/plain": [
              "<Figure size 432x288 with 1 Axes>"
            ]
          },
          "metadata": {
            "tags": [],
            "needs_background": "light"
          }
        }
      ]
    },
    {
      "cell_type": "code",
      "metadata": {
        "id": "7n1ysnDZjiQb",
        "outputId": "76739d14-fee6-4c7f-dda0-100417de11d7",
        "colab": {
          "base_uri": "https://localhost:8080/",
          "height": 522
        }
      },
      "source": [
        "# Select predicted prob by subgroup\n",
        "y_mask  = (y_class == y_test)\n",
        "x_group = X_test[:, 2][y_mask]\n",
        "\n",
        "\n",
        "pred_prob   = torch.tensor([y[idx].item() for y, idx in zip(y_hat.softmax(dim=1), y_test)])\n",
        "pred_prob_a = pred_prob[y_mask][x_group < 0]\n",
        "pred_prob_b = pred_prob[y_mask][x_group > 0]\n",
        "\n",
        "plt.hist(pred_prob_a.numpy(), alpha=0.5, bins=30, density=True)\n",
        "plt.hist(pred_prob_b.numpy(), alpha=0.5, bins=30, density=True)"
      ],
      "execution_count": 207,
      "outputs": [
        {
          "output_type": "execute_result",
          "data": {
            "text/plain": [
              "(array([0.54839676, 0.65807348, 1.06023373, 0.98711022, 0.91399459,\n",
              "        1.24302769, 0.98711416, 1.42583156, 1.09678914, 1.20647286,\n",
              "        1.38926624, 2.2301468 , 1.97422045, 1.93766854, 2.52261501,\n",
              "        2.92478269, 3.69253815, 3.91188125, 4.09469577, 4.27747763,\n",
              "        4.86245123, 4.71619329, 2.74198378, 1.93766854, 2.04733972,\n",
              "        2.70542399, 2.66885357, 2.70542399, 2.33981682, 1.09679351]),\n",
              " array([0.50018245, 0.51512915, 0.5300759 , 0.5450226 , 0.55996937,\n",
              "        0.57491606, 0.5898628 , 0.6048095 , 0.6197562 , 0.634703  ,\n",
              "        0.6496497 , 0.66459644, 0.67954314, 0.6944899 , 0.7094366 ,\n",
              "        0.72438335, 0.73933005, 0.75427675, 0.7692235 , 0.7841702 ,\n",
              "        0.79911697, 0.81406367, 0.8290104 , 0.8439571 , 0.8589038 ,\n",
              "        0.8738506 , 0.8887973 , 0.90374404, 0.91869074, 0.9336375 ,\n",
              "        0.9485842 ], dtype=float32),\n",
              " <a list of 30 Patch objects>)"
            ]
          },
          "metadata": {
            "tags": []
          },
          "execution_count": 207
        },
        {
          "output_type": "display_data",
          "data": {
            "image/png": "[encoded data removed]",
            "text/plain": [
              "<Figure size 432x288 with 1 Axes>"
            ]
          },
          "metadata": {
            "tags": [],
            "needs_background": "light"
          }
        }
      ]
    },
    {
      "cell_type": "code",
      "metadata": {
        "id": "QQsJ6d8KjlYH"
      },
      "source": [
        ""
      ],
      "execution_count": null,
      "outputs": []
    }
  ]
}