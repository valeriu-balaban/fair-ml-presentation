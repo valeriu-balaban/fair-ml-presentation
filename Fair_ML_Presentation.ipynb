{
  "nbformat": 4,
  "nbformat_minor": 0,
  "metadata": {
    "colab": {
      "name": "Fair-ML-Presentation.ipynb",
      "provenance": [],
      "collapsed_sections": [],
      "toc_visible": true,
      "authorship_tag": "ABX9TyPHTyGhSQpLthAaURGYlDLW",
      "include_colab_link": true
    },
    "kernelspec": {
      "name": "python3",
      "display_name": "Python 3"
    },
    "language_info": {
      "name": "python"
    }
  },
  "cells": [
    {
      "cell_type": "markdown",
      "metadata": {
        "id": "view-in-github",
        "colab_type": "text"
      },
      "source": [
        "<a href=\"https://colab.research.google.com/github/valeriu-balaban/fair-ml-presentation/blob/main/Fair_ML_Presentation.ipynb\" target=\"_parent\"><img src=\"https://colab.research.google.com/assets/colab-badge.svg\" alt=\"Open In Colab\"/></a>"
      ]
    },
    {
      "cell_type": "markdown",
      "metadata": {
        "id": "NIUKw_LT2Mjg"
      },
      "source": [
        "# Learning Fair ML Models\n",
        "\n",
        " - Fairness will play a major role in automated systems such as ML\n",
        " - For now we do not always have many answers, just a lot of questions\n",
        " - Let's make it interactive. Think and answer questions \n",
        " - There is no right of wrong answer\n",
        " - Presented methods can be easily integrated in any project\n",
        " - Code is in vanila Pytorch and can be ported to Keras, Tensorflow, JAX, etc.\n",
        "\n",
        "**Outline:**\n",
        "1. When things go wrong, examples\n",
        "1. Datasets description\n",
        "1. Subgroup, individual fairness\n",
        "1. Definition and fairness metrics\n",
        "1. Conditional Value at Risk method\n",
        "1. Wasserstein distance (maybe)\n",
        "1. Variance penalization and reference group"
      ]
    },
    {
      "cell_type": "markdown",
      "metadata": {
        "id": "8Qecy1h8JqIb"
      },
      "source": [
        "## 1. Problem with $``the\\ algorithm\"$ "
      ]
    },
    {
      "cell_type": "markdown",
      "metadata": {
        "id": "hquMcFeXF0yT"
      },
      "source": [
        "\n",
        "  - Tiktok's algorithm prioritizes white people:\n",
        "    ![tiktok](https://raw.githubusercontent.com/valeriu-balaban/fair-ml-presentation/main/Screenshot%202021-07-19%20at%2011-31-32%20tiktok%20race%20problem%20at%20DuckDuckGo.png)\n",
        "\n",
        "  - Youtube's algorithm has other issues ([source](https://www.wsj.com/articles/youtubes-search-algorithm-directs-viewers-to-false-and-sexualized-videos-study-finds-11625644803)):\n",
        "  ![youtube](https://raw.githubusercontent.com/valeriu-balaban/fair-ml-presentation/main/Screenshot%202021-07-19%20at%2011-30-24%20YouTube%E2%80%99s%20Search%20Algorithm%20Directs%20Viewers%20to%20False%20and%20Sexualized%20Videos%2C%20Study%20Finds.png)\n",
        "\n",
        "  - Facebook's algorithm has ome other problems ([source](https://www.technologyreview.com/2019/04/05/1175/facebook-algorithm-discriminates-ai-bias/)):\n",
        "  ![facebook](https://raw.githubusercontent.com/valeriu-balaban/fair-ml-presentation/main/Screenshot%202021-07-19%20at%2011-35-14%20Facebook%E2%80%99s%20ad-serving%20algorithm%20discriminates%20by%20gender%20and%20race.png)\n",
        "\n",
        "  - And the same problem can be posed for self-driving cars ([source](https://www.technologyreview.com/2018/10/24/139313/a-global-ethics-study-aims-to-help-ai-solve-the-self-driving-trolley-problem/))\n",
        "  ![self-driving-cars](https://raw.githubusercontent.com/valeriu-balaban/fair-ml-presentation/main/Screenshot%202021-07-19%20at%2012-01-08%20Should%20a%20self-driving%20car%20kill%20the%20baby%20or%20the%20grandma%20Depends%20on%20where%20you%E2%80%99re%20from%20.png)\n",
        "\n",
        "  - Evaluating the danger of an offender during (pre)trial ([source](https://www.propublica.org/article/how-we-analyzed-the-compas-recidivism-algorithm))\n",
        "    ![propublica](https://static.propublica.org/projects/algorithmic-bias/assets/img/generated/methodology-risk-of-recidivism-scores-by-race-900*363-482d1c.png)\n",
        "\n"
      ]
    },
    {
      "cell_type": "markdown",
      "metadata": {
        "id": "s8nMdiUKb9Hb"
      },
      "source": [
        "None of these companies designed the ML algorithm to be biased. Yet it ended up biased on multiple occasions. \n",
        "\n",
        "**Why?**"
      ]
    },
    {
      "cell_type": "markdown",
      "metadata": {
        "id": "R0EEk_70cMTq"
      },
      "source": [
        "### Answer"
      ]
    },
    {
      "cell_type": "markdown",
      "metadata": {
        "id": "1n2aj4fFcO-E"
      },
      "source": [
        "*Learning from data without suppervision can (usually does) lead to issues because humans that generate the data discriminate by race, skin color, gender, age, etc.*\n",
        "\n",
        "https://www.youtube.com/embed/NaWJhlDb6sE\n",
        "\n"
      ]
    },
    {
      "cell_type": "markdown",
      "metadata": {
        "id": "ms5nTNaFHxYG"
      },
      "source": [
        "## 2. Toy dataset "
      ]
    },
    {
      "cell_type": "code",
      "metadata": {
        "id": "Degpfl9Td9et"
      },
      "source": [
        "import torch\n",
        "\n",
        "import numpy as np\n",
        "import pandas as pd\n",
        "import seaborn as sns\n",
        "\n",
        "import matplotlib.pyplot as plt"
      ],
      "execution_count": 2,
      "outputs": []
    },
    {
      "cell_type": "code",
      "metadata": {
        "id": "Hek2c1_Md9LI"
      },
      "source": [
        "def generate_toy_data(n_samples, n_samples_low, n_dimensions, seed=0):\n",
        "  \"\"\"\n",
        "  Dataset generation code from Michele Donini, et al. \"Empirical Risk\n",
        "  Minimization under Fairness Constraints. https://github.com/jmikko/fair_ERM\n",
        "  \"\"\"\n",
        "  np.random.seed(seed)\n",
        "  varA = 0.8\n",
        "  aveApos = [-1.0] * n_dimensions\n",
        "  aveAneg = [1.0] * n_dimensions\n",
        "  varB = 0.5\n",
        "  aveBpos = [0.5] * int(n_dimensions / 2) + [-0.5] * int(n_dimensions / 2 + n_dimensions % 2)\n",
        "  aveBneg = [0.5] * n_dimensions\n",
        "  X = np.random.multivariate_normal(aveApos, np.diag([varA] * n_dimensions), n_samples)\n",
        "  X = np.vstack([X, np.random.multivariate_normal(aveAneg, np.diag([varA] * n_dimensions), n_samples)])\n",
        "  X = np.vstack([X, np.random.multivariate_normal(aveBpos, np.diag([varB] * n_dimensions), n_samples_low)])\n",
        "  X = np.vstack([X, np.random.multivariate_normal(aveBneg, np.diag([varB] * n_dimensions), n_samples)])\n",
        "  sensible_feature = [1] * (n_samples * 2) + [-1] * (n_samples + n_samples_low)\n",
        "  sensible_feature = np.array(sensible_feature)\n",
        "  sensible_feature.shape = (len(sensible_feature), 1)\n",
        "  X = np.hstack([X, sensible_feature])\n",
        "  y = [1] * n_samples + [-1] * n_samples + [1] * n_samples_low + [-1] * n_samples\n",
        "  y = np.array(y)\n",
        "  sensible_feature_id = len(X[1, :]) - 1\n",
        "  idx_A = list(range(0, n_samples * 2))\n",
        "  idx_B = list(range(n_samples * 2, n_samples * 3 + n_samples_low))\n",
        "\n",
        "  return X, y, sensible_feature_id, idx_A, idx_B"
      ],
      "execution_count": 50,
      "outputs": []
    },
    {
      "cell_type": "code",
      "metadata": {
        "id": "UsbFm12YI3kc"
      },
      "source": [
        "# Parameters\n",
        "n_samples = 100\n",
        "n_samples_low = 20\n",
        "\n",
        "# Prepare the dataset\n",
        "X, y, _,_,_ = generate_toy_data(n_samples, n_samples_low, n_dimensions=2, seed=3)"
      ],
      "execution_count": 51,
      "outputs": []
    },
    {
      "cell_type": "code",
      "metadata": {
        "id": "mA3ahx0aJEGk",
        "outputId": "76836ea0-dbce-4649-95d3-0e828e30ac28",
        "colab": {
          "base_uri": "https://localhost:8080/"
        }
      },
      "source": [
        "X[0, :], y"
      ],
      "execution_count": 52,
      "outputs": [
        {
          "output_type": "execute_result",
          "data": {
            "text/plain": [
              "(array([ 0.59979794, -0.60957372,  1.        ]),\n",
              " array([ 1,  1,  1,  1,  1,  1,  1,  1,  1,  1,  1,  1,  1,  1,  1,  1,  1,\n",
              "         1,  1,  1,  1,  1,  1,  1,  1,  1,  1,  1,  1,  1,  1,  1,  1,  1,\n",
              "         1,  1,  1,  1,  1,  1,  1,  1,  1,  1,  1,  1,  1,  1,  1,  1,  1,\n",
              "         1,  1,  1,  1,  1,  1,  1,  1,  1,  1,  1,  1,  1,  1,  1,  1,  1,\n",
              "         1,  1,  1,  1,  1,  1,  1,  1,  1,  1,  1,  1,  1,  1,  1,  1,  1,\n",
              "         1,  1,  1,  1,  1,  1,  1,  1,  1,  1,  1,  1,  1,  1,  1, -1, -1,\n",
              "        -1, -1, -1, -1, -1, -1, -1, -1, -1, -1, -1, -1, -1, -1, -1, -1, -1,\n",
              "        -1, -1, -1, -1, -1, -1, -1, -1, -1, -1, -1, -1, -1, -1, -1, -1, -1,\n",
              "        -1, -1, -1, -1, -1, -1, -1, -1, -1, -1, -1, -1, -1, -1, -1, -1, -1,\n",
              "        -1, -1, -1, -1, -1, -1, -1, -1, -1, -1, -1, -1, -1, -1, -1, -1, -1,\n",
              "        -1, -1, -1, -1, -1, -1, -1, -1, -1, -1, -1, -1, -1, -1, -1, -1, -1,\n",
              "        -1, -1, -1, -1, -1, -1, -1, -1, -1, -1, -1, -1, -1,  1,  1,  1,  1,\n",
              "         1,  1,  1,  1,  1,  1,  1,  1,  1,  1,  1,  1,  1,  1,  1,  1, -1,\n",
              "        -1, -1, -1, -1, -1, -1, -1, -1, -1, -1, -1, -1, -1, -1, -1, -1, -1,\n",
              "        -1, -1, -1, -1, -1, -1, -1, -1, -1, -1, -1, -1, -1, -1, -1, -1, -1,\n",
              "        -1, -1, -1, -1, -1, -1, -1, -1, -1, -1, -1, -1, -1, -1, -1, -1, -1,\n",
              "        -1, -1, -1, -1, -1, -1, -1, -1, -1, -1, -1, -1, -1, -1, -1, -1, -1,\n",
              "        -1, -1, -1, -1, -1, -1, -1, -1, -1, -1, -1, -1, -1, -1, -1, -1, -1,\n",
              "        -1, -1, -1, -1, -1, -1, -1, -1, -1, -1, -1, -1, -1, -1]))"
            ]
          },
          "metadata": {
            "tags": []
          },
          "execution_count": 52
        }
      ]
    },
    {
      "cell_type": "code",
      "metadata": {
        "id": "YeLFbSpafBZb",
        "colab": {
          "base_uri": "https://localhost:8080/",
          "height": 483
        },
        "outputId": "baad547b-724f-48b0-e889-7d5ecc0e9424"
      },
      "source": [
        "# Plot data\n",
        "s1 = (X[:, 2] < 0)\n",
        "s2 = (X[:, 2] > 0)\n",
        "\n",
        "c1s1 = (y[s1] == -1)\n",
        "c1s2 = (y[s2] == -1)\n",
        "c2s1 = (y[s1] ==  1)\n",
        "c2s2 = (y[s2] ==  1)\n",
        "\n",
        "\n",
        "plt.figure(figsize=(8, 8))\n",
        "\n",
        "plt.scatter(X[s1, 0][c1s1], X[s1, 1][c1s1], marker='x', color='b', label=\"class 1, subgroup a\")\n",
        "plt.scatter(X[s2, 0][c1s2], X[s2, 1][c1s2], marker='o', color='b', label=\"class 1, subgroup b\")\n",
        "\n",
        "plt.scatter(X[s1, 0][c2s1], X[s1, 1][c2s1], marker='x', color='r', label=\"class 2, subgroup a\")\n",
        "plt.scatter(X[s2, 0][c2s2], X[s2, 1][c2s2], marker='o', color='r', label=\"class 2, subgroup b\")\n",
        "\n",
        "plt.legend()\n",
        "sns.despine()"
      ],
      "execution_count": 54,
      "outputs": [
        {
          "output_type": "display_data",
          "data": {
            "image/png": "[encoded data removed]",
            "text/plain": [
              "<Figure size 576x576 with 1 Axes>"
            ]
          },
          "metadata": {
            "tags": [],
            "needs_background": "light"
          }
        }
      ]
    },
    {
      "cell_type": "markdown",
      "metadata": {
        "id": "UYYUmfoNIFzT"
      },
      "source": [
        "**Questions:**\n",
        "1. What differentiates subgroup a from subgroup b?\n",
        "1. How a fair classification boundary should look?"
      ]
    },
    {
      "cell_type": "markdown",
      "metadata": {
        "id": "P82_grNMJ6Rm"
      },
      "source": [
        "### Train a vanila pytorch model"
      ]
    },
    {
      "cell_type": "code",
      "metadata": {
        "id": "sj5WRgqUJQTh"
      },
      "source": [
        "# data parameters\n",
        "n_samples = 1000\n",
        "n_samples_low = 200\n",
        "\n",
        "# Prepare the dataset\n",
        "X, y, _,_,_ = generate_toy_data(n_samples, n_samples_low, n_dimensions=2, seed=0)\n",
        "X_test, y_test, _,_,_ = generate_toy_data(n_samples, n_samples_low, n_dimensions=2, seed=1)\n",
        "\n",
        "X = torch.tensor(X).float()\n",
        "X_test = torch.tensor(X_test).float()\n",
        "\n",
        "# Change labels from -1, 1 to 0, 1\n",
        "y = torch.tensor(y)\n",
        "y[y == -1] = 0\n",
        "\n",
        "y_test = torch.tensor(y_test)\n",
        "y_test[y_test == -1] = 0\n",
        "\n",
        "\n",
        "data_train = torch.utils.data.TensorDataset(X, y)\n",
        "loss       = torch.nn.CrossEntropyLoss(reduction='none')"
      ],
      "execution_count": 82,
      "outputs": []
    },
    {
      "cell_type": "code",
      "metadata": {
        "id": "yZMFj5c0KJ1Y",
        "outputId": "97533a68-d200-432e-dd4b-bde40978c07a",
        "colab": {
          "base_uri": "https://localhost:8080/"
        }
      },
      "source": [
        "# Params\n",
        "num_epochs = 10\n",
        "lr = 0.02\n",
        "batch_size = 256\n",
        "\n",
        "model = torch.nn.Sequential(\n",
        "  torch.nn.Linear(3, 8),\n",
        "  torch.nn.Sigmoid(),\n",
        "  torch.nn.Linear(8, 2),\n",
        ")\n",
        "\n",
        "opt  = torch.optim.Adam(model.parameters(), lr=lr)\n",
        "dl   = torch.utils.data.DataLoader(data_train, batch_size=batch_size, shuffle=True, drop_last=True)\n",
        "\n",
        "\n",
        "for i in range(num_epochs):\n",
        "  print(\"Training epoch\", i)\n",
        "\n",
        "  for x, y_t in dl:\n",
        "    opt.zero_grad()\n",
        "\n",
        "    y_hat  = model(x)\n",
        "    losses = loss(y_hat, y_t)\n",
        "\n",
        "\n",
        "    # Backpropagate and optimize    \n",
        "    losses.mean().backward()\n",
        "    opt.step()"
      ],
      "execution_count": 83,
      "outputs": [
        {
          "output_type": "stream",
          "text": [
            "Training epoch 0\n",
            "Training epoch 1\n",
            "Training epoch 2\n",
            "Training epoch 3\n",
            "Training epoch 4\n",
            "Training epoch 5\n",
            "Training epoch 6\n",
            "Training epoch 7\n",
            "Training epoch 8\n",
            "Training epoch 9\n"
          ],
          "name": "stdout"
        }
      ]
    },
    {
      "cell_type": "code",
      "metadata": {
        "id": "T9VItZiqLNj2",
        "outputId": "511a7a04-2d84-40ce-9965-9d8cfb328cc6",
        "colab": {
          "base_uri": "https://localhost:8080/"
        }
      },
      "source": [
        "# Evaluate model\n",
        "\n",
        "with torch.no_grad():\n",
        "  y_hat = model(X_test)\n",
        "\n",
        "y_class = y_hat.argmax(dim=1)\n",
        "\n",
        "\n",
        "print(\"Number of missclassifications\", (y_class != y_test).sum().item(), \"out of\", y_test.shape[0], \"or\", (y_class != y_test).sum().item() /  y_test.shape[0])"
      ],
      "execution_count": 84,
      "outputs": [
        {
          "output_type": "stream",
          "text": [
            "Number of missclassifications 303 out of 3200 or 0.0946875\n"
          ],
          "name": "stdout"
        }
      ]
    },
    {
      "cell_type": "code",
      "metadata": {
        "id": "8b0A682FLg-j",
        "outputId": "d707392f-bb38-4abd-91c6-1a9541fdb553",
        "colab": {
          "base_uri": "https://localhost:8080/"
        }
      },
      "source": [
        "y_mask  = (y_class != y_test)\n",
        "x_group = X_test[:, 2][y_mask]\n",
        "\n",
        "print(\"Number of missclassifications for subgroup a\", (x_group < 0).sum().item(), \"out of\", y_test.shape[0], \"or\", (x_group < 0).sum().item() /  y_test.shape[0])\n",
        "print(\"Number of missclassifications for subgroup b\", (x_group > 0).sum().item(), \"out of\", y_test.shape[0], \"or\", (x_group > 0).sum().item() /  y_test.shape[0])"
      ],
      "execution_count": 85,
      "outputs": [
        {
          "output_type": "stream",
          "text": [
            "Number of missclassifications for subgroup a 181 out of 3200 or 0.0565625\n",
            "Number of missclassifications for subgroup b 122 out of 3200 or 0.038125\n"
          ],
          "name": "stdout"
        }
      ]
    },
    {
      "cell_type": "markdown",
      "metadata": {
        "id": "Pcw59o8SR6wl"
      },
      "source": [
        "**Questions:**\n",
        "1. The subgroup attribute is part of the training data. Would the results change if we remove it?\n",
        "1. How can we fix this and make the model more fair? "
      ]
    },
    {
      "cell_type": "markdown",
      "metadata": {
        "id": "Y9K7SNumLJj3"
      },
      "source": [
        "## Definition and fainess metrics\n"
      ]
    },
    {
      "cell_type": "markdown",
      "metadata": {
        "id": "yAWOUZCkLPlY"
      },
      "source": [
        "### Notation:\n",
        "\n",
        "To simplify things we will focus only on classification. Although, the methods work for both, regression and classification.\n",
        "\n",
        "\n",
        "- $X$ - input ($x$ one input sample)\n",
        "- $Y$ - labels ($y$ one label sample)\n",
        "- $S$ - sensitive attributes which are part of X (e.g., gender, age, race)\n",
        "- $f$ - model we train, i.e., $f(x; \\theta)$ returns the probability of each labels\n",
        "- $\\theta$ - model parameters, e.g., the weights and the biases for NN\n",
        "- $\\ell$ - loss function, here we will always use cross-entropy ($-log f(x; \\theta) [y]$)\n",
        "- $\\mathbb{E}[\\ell(f, X, Y)]$ - loss value, i.e., average loss\n",
        "- $\\min\\mathbb{E}[\\ell(f, X, Y)]$ - optimization objective"
      ]
    },
    {
      "cell_type": "markdown",
      "metadata": {
        "id": "OYegnLkBP7hY"
      },
      "source": [
        "### Definitions of perfect fairness\n"
      ]
    },
    {
      "cell_type": "markdown",
      "metadata": {
        "id": "Q2VCxV6DVkma"
      },
      "source": [
        "\n",
        "- *Demografic parity:* $S \\perp f(X; \\theta)$\n",
        "- *Equaized odds:* $S \\perp f(X; \\theta) \\mid Y$\n",
        "- *Lack of disparate mistreatment:* $\\mathbb{P}(f(X; \\theta) \\neq Y \\mid S = s_a) = \\mathbb{P}(f(X; \\theta) \\neq Y \\mid S = s_b) , \\forall s_a, s_b \\in S$\n",
        "\n",
        "**Questions:**\n",
        "1. What is the difference between the first two from the perspective of application?\n",
        "1. What is the problem with these definitions?"
      ]
    },
    {
      "cell_type": "markdown",
      "metadata": {
        "id": "qP5413u4VoIY"
      },
      "source": [
        "### Approximate fairness"
      ]
    },
    {
      "cell_type": "markdown",
      "metadata": {
        "id": "U1ujakf4hVsp"
      },
      "source": [
        "- *Mean difference score:* $\\max \\mid \\mathbb{P}(f(X; \\theta) = y \\mid S = s_a) - \\mathbb{P}(f(X; \\theta) = y \\mid S = s_b) \\mid, \\forall s_a, s_b \\in S, \\forall y \\in Y$\n",
        "\n",
        "- *Covariance:* $\\mathbb{E}[f(X; \\theta) \\cdot S] - \\mathbb{E}[f(X; \\theta)] \\cdot \\mathbb{E}[S]$\n",
        "\n",
        "**Questions:**\n",
        "1. Why these two metrics are approximate\n",
        "1. Why we use the approximate metrics instead of perfect metrics of fairness?\n",
        "\n",
        "[Correlation Wikipedia](https://en.wikipedia.org/wiki/Correlation)"
      ]
    },
    {
      "cell_type": "code",
      "metadata": {
        "id": "aBI5OiXWLOx-"
      },
      "source": [
        ""
      ],
      "execution_count": null,
      "outputs": []
    }
  ]
}