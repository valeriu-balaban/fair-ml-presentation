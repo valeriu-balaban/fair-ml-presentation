{
  "nbformat": 4,
  "nbformat_minor": 0,
  "metadata": {
    "colab": {
      "name": "Fair-ML-Presentation.ipynb",
      "provenance": [],
      "collapsed_sections": [],
      "authorship_tag": "ABX9TyODWgxXqUcspRPnYO6CFMkT",
      "include_colab_link": true
    },
    "kernelspec": {
      "name": "python3",
      "display_name": "Python 3"
    },
    "language_info": {
      "name": "python"
    }
  },
  "cells": [
    {
      "cell_type": "markdown",
      "metadata": {
        "id": "view-in-github",
        "colab_type": "text"
      },
      "source": [
        "<a href=\"https://colab.research.google.com/github/valeriu-balaban/fair-ml-presentation/blob/main/Fair_ML_Presentation.ipynb\" target=\"_parent\"><img src=\"https://colab.research.google.com/assets/colab-badge.svg\" alt=\"Open In Colab\"/></a>"
      ]
    },
    {
      "cell_type": "markdown",
      "metadata": {
        "id": "NIUKw_LT2Mjg"
      },
      "source": [
        "# Learning Fair ML Models\n",
        "\n",
        "**Outline:**\n",
        "1. ML more used in practice and fairness went wrong examples (Tiktok, self-driving cars)\n",
        "1. Problem definition, Evaluating fairness, Limitations\n",
        "1. Datasets description, what a fair model should do.\n",
        "1. Subgroup, individual fairness\n",
        "1. Conditional Value at Risk method\n",
        "1. Wasserstein distance (maybe)\n",
        "1. Variance penalization and reference group"
      ]
    },
    {
      "cell_type": "code",
      "metadata": {
        "id": "PPwKnfg02LvP"
      },
      "source": [
        ""
      ],
      "execution_count": null,
      "outputs": []
    }
  ]
}